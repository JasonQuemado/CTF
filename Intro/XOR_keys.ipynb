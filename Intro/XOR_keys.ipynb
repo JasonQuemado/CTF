{
 "cells": [
  {
   "cell_type": "code",
   "execution_count": 2,
   "id": "8ae51346-f71d-4fd5-85e4-d8f12f35827f",
   "metadata": {},
   "outputs": [
    {
     "name": "stdout",
     "output_type": "stream",
     "text": [
      "b'crypto{x0r_i5_ass0c1at1v3}'\n"
     ]
    }
   ],
   "source": [
    "KEY1 = \"a6c8b6733c9b22de7bc0253266a3867df55acde8635e19c73313\"\n",
    "KEY21 = \"37dcb292030faa90d07eec17e3b1c6d8daf94c35d4c9191a5e1e\"\n",
    "KEY23 = \"c1545756687e7573db23aa1c3452a098b71a7fbf0fddddde5fc1\"\n",
    "FKEY132 = \"04ee9855208a2cd59091d04767ae47963170d1660df7f56f5faf\"\n",
    "\n",
    "def xor(s1,s2):\n",
    "    if len(s1) != len(s2):\n",
    "        raise \"XOR EXCEPTION: Strings are not of equal length!\"\n",
    "\n",
    "    return ''.join(format(int(a, 16) ^ int(b, 16), 'x') for a,b in zip(s1,s2))\n",
    "\n",
    "\n",
    "#KEY2 = xor(KEY21,KEY1);\n",
    "#print(KEY2);\n",
    "\n",
    "#KEY3 = xor(KEY23,KEY2);\n",
    "#print(KEY3);\n",
    "\n",
    "#aux = xor(KEY1,xor(KEY2,KEY3));\n",
    "#print(aux);\n",
    "\n",
    "flag = xor(FKEY132,xor(KEY1,KEY23));\n",
    "flag = bytes.fromhex(flag);\n",
    "print(flag);\n",
    "\n",
    "\n",
    "#key1b = int(KEY1, 16);\n",
    "#print(key1b);\n",
    "\n",
    "#key21b = int(KEY21, 16);\n",
    "#print(key21b);\n",
    "\n",
    "#key23b = int(KEY23, 16);\n",
    "#print(key23b);\n",
    "\n",
    "#keyf123b = int(FKEY132, 16);\n",
    "#print(keyf123b);"
   ]
  },
  {
   "cell_type": "code",
   "execution_count": null,
   "id": "309bba06-2cd3-4fc7-9edc-d33f910a6964",
   "metadata": {},
   "outputs": [],
   "source": []
  }
 ],
 "metadata": {
  "kernelspec": {
   "display_name": "Python [conda env:base] *",
   "language": "python",
   "name": "conda-base-py"
  },
  "language_info": {
   "codemirror_mode": {
    "name": "ipython",
    "version": 3
   },
   "file_extension": ".py",
   "mimetype": "text/x-python",
   "name": "python",
   "nbconvert_exporter": "python",
   "pygments_lexer": "ipython3",
   "version": "3.12.7"
  }
 },
 "nbformat": 4,
 "nbformat_minor": 5
}
