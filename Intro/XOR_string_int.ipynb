{
 "cells": [
  {
   "cell_type": "code",
   "execution_count": 2,
   "id": "4f5502d9-6507-4660-9c95-1d82bfc69334",
   "metadata": {},
   "outputs": [
    {
     "name": "stdout",
     "output_type": "stream",
     "text": [
      "[108, 97, 98, 101, 108]\n",
      "Resultado de la operación XOR: [97, 108, 111, 104, 97]\n",
      "Cadena final: aloha\n"
     ]
    }
   ],
   "source": [
    "string = \"label\";\n",
    "integer = 13;\n",
    "\n",
    "int_string = [ord(i) for i in string];\n",
    "#int_string = [bin(i)[2:] for i in int_string];\n",
    "print(int_string);\n",
    "\n",
    "#int_integer = bin(integer)[2:];\n",
    "#int_integer = int_integer.zfill(len(int_string));\n",
    "\n",
    "#final_int = [int(s) ^ int(i) for s, i in zip(int_string, int_integer)];\n",
    "final_int = [s ^ integer for s in int_string]\n",
    "\n",
    "print(f\"Resultado de la operación XOR: {final_int}\");\n",
    "\n",
    "final_string = ''.join(chr(f) for f in final_int);\n",
    "\n",
    "print(f\"Cadena final: {final_string}\");"
   ]
  },
  {
   "cell_type": "code",
   "execution_count": null,
   "id": "bcff9862-a2d0-4c4f-a635-ff89bd1604a3",
   "metadata": {},
   "outputs": [],
   "source": []
  }
 ],
 "metadata": {
  "kernelspec": {
   "display_name": "Python [conda env:base] *",
   "language": "python",
   "name": "conda-base-py"
  },
  "language_info": {
   "codemirror_mode": {
    "name": "ipython",
    "version": 3
   },
   "file_extension": ".py",
   "mimetype": "text/x-python",
   "name": "python",
   "nbconvert_exporter": "python",
   "pygments_lexer": "ipython3",
   "version": "3.12.7"
  }
 },
 "nbformat": 4,
 "nbformat_minor": 5
}
