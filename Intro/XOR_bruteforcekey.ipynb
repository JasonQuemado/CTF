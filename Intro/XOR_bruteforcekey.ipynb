{
 "cells": [
  {
   "cell_type": "code",
   "execution_count": 67,
   "id": "fc216696-285d-4619-927f-2e277885d5f8",
   "metadata": {},
   "outputs": [
    {
     "name": "stdout",
     "output_type": "stream",
     "text": [
      "b\"\\x0e\\x0b!?&\\x04\\x1eH\\x0b&!\\x7f'4.\\x17]\\x0e\\x07\\n<[\\x10>%&!\\x7f'4.\\x17]\\x0e\\x07~&4Q\\x15\\x01\\x04\"\n",
      "b'myXORke'\n",
      "b'myXORke'\n",
      "myXORke\n",
      "b'crypto{1f_y0u_Kn0w_En0uGH_y0u_Kn0w_1t_4ll}'\n",
      "b'crypto{1f_y0u_Kn0w_En0uGH_y0u_Kn0w_1t_4ll}'\n",
      "b'\\x04\\x01+5,\\x0e\\x14B\\x01,+u->$\\x1dW\\x04\\r\\x006Q\\x1a4/,+u->$\\x1dW\\x04\\rt,>[\\x1f\\x0b\\x0e\\x05\\x00*4-\\x0f\\x15C\\x00-*t,?%\\x1cV\\x05\\x0c\\x017P\\x1b5.-*t,?%\\x1cV\\x05\\x0cu-?Z\\x1e\\n\\x0f\\x02\\x07-3*\\x08\\x12D\\x07*-s+8\"\\x1bQ\\x02\\x0b\\x060W\\x1c2)*-s+8\"\\x1bQ\\x02\\x0br*8]\\x19\\r\\x08\\x03\\x06,2+\\t\\x13E\\x06+,r*9#\\x1aP\\x03\\n\\x071V\\x1d3(+,r*9#\\x1aP\\x03\\ns+9\\\\\\x18\\x0c\\t\\x00\\x05/1(\\n\\x10F\\x05(/q): \\x19S\\x00\\t\\x042U\\x1e0+(/q): \\x19S\\x00\\tp(:_\\x1b\\x0f\\n\\x01\\x04.0)\\x0b\\x11G\\x04).p(;!\\x18R\\x01\\x08\\x053T\\x1f1*).p(;!\\x18R\\x01\\x08q);^\\x1a\\x0e\\x0b'\n"
     ]
    }
   ],
   "source": [
    "s = \"0e0b213f26041e480b26217f27342e175d0e070a3c5b103e2526217f27342e175d0e077e263451150104\"\n",
    "#t = \"abcdefghijklmnopqrstuvwxyz\"\n",
    "#stb = int(s,16)\n",
    "#print(stb)\n",
    "#stb = bytes.fromhex(stb)\n",
    "st = bytes.fromhex(s)\n",
    "print(st)\n",
    "\n",
    "def brute(s,key):\n",
    "    ans = b''\n",
    "    for b1,b2 in zip(s,key):\n",
    "        ans += bytes([b1 ^ b2])\n",
    "    print(ans)\n",
    "    try:\n",
    "        #ans = str(ans)\n",
    "        #ans = bytes.fromhex(ans)\n",
    "        print(ans)\n",
    "        return ans.decode()\n",
    "    except UnicodeDecodeError:\n",
    "        return none\n",
    "\n",
    "llave = brute(st[:7],\"crypto{\".encode())\n",
    "print(llave)\n",
    "#llave = str(llave)\n",
    "#llave = bytes.fromhex(llave)\n",
    "decod = (llave + \"y\").encode()\n",
    "decod += decod * int((len(st) - len(llave))/len(llave))\n",
    "decod += decod[:((len(st)-len(llave))%len(llave))]\n",
    "\n",
    "answer = brute(st,decod)\n",
    "print(ans)"
   ]
  },
  {
   "cell_type": "code",
   "execution_count": null,
   "id": "cfd6c12a-5a04-496f-acca-149d8591f2a3",
   "metadata": {},
   "outputs": [],
   "source": []
  },
  {
   "cell_type": "code",
   "execution_count": null,
   "id": "65cd1e67-1255-4aeb-bcb1-7508efeb41d1",
   "metadata": {},
   "outputs": [],
   "source": []
  }
 ],
 "metadata": {
  "kernelspec": {
   "display_name": "Python [conda env:base] *",
   "language": "python",
   "name": "conda-base-py"
  },
  "language_info": {
   "codemirror_mode": {
    "name": "ipython",
    "version": 3
   },
   "file_extension": ".py",
   "mimetype": "text/x-python",
   "name": "python",
   "nbconvert_exporter": "python",
   "pygments_lexer": "ipython3",
   "version": "3.12.7"
  }
 },
 "nbformat": 4,
 "nbformat_minor": 5
}
