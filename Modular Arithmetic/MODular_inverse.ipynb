{
 "cells": [
  {
   "cell_type": "code",
   "execution_count": 2,
   "id": "236c2580-9953-4400-b183-189dd2633c4f",
   "metadata": {},
   "outputs": [
    {
     "name": "stdout",
     "output_type": "stream",
     "text": [
      "NOS PIDEN ENCONTRAR 'd': 3⋅d ≡ 1 mod13?\n",
      "CONOCIENDO EL PEQUEÑO TEOREMA DE FERMAT:\n",
      "\n",
      "\t3^(p-1) ≡ 1 modp\n",
      "\n",
      "ENTONCES: (p-1) = 3^(p-2)\n",
      "9\n",
      "9\n"
     ]
    }
   ],
   "source": [
    "print(\"NOS PIDEN ENCONTRAR 'd': 3⋅d ≡ 1 mod13?\")\n",
    "print(\"CONOCIENDO EL PEQUEÑO TEOREMA DE FERMAT:\\n\")\n",
    "print(\"\\t3^(p-1) ≡ 1 modp\\n\")\n",
    "print(\"ENTONCES: (p-1) = 3^(p-2)\")\n",
    "\n",
    "a = 3\n",
    "p = 13\n",
    "d = a**(p-2) % 13\n",
    "\n",
    "def modular_inverse(a,b):\n",
    "    res = ((a ** (p-2)) % 13)\n",
    "    return res\n",
    "\n",
    "res = modular_inverse(3,13)\n",
    "print(res)\n",
    "print(d)"
   ]
  },
  {
   "cell_type": "code",
   "execution_count": null,
   "id": "7719859f-f503-44dc-b01b-0d0effa4c2e7",
   "metadata": {},
   "outputs": [],
   "source": []
  },
  {
   "cell_type": "code",
   "execution_count": null,
   "id": "2efb205b-b4fe-445b-81a2-222a42bdba22",
   "metadata": {},
   "outputs": [],
   "source": []
  }
 ],
 "metadata": {
  "kernelspec": {
   "display_name": "Python [conda env:base] *",
   "language": "python",
   "name": "conda-base-py"
  },
  "language_info": {
   "codemirror_mode": {
    "name": "ipython",
    "version": 3
   },
   "file_extension": ".py",
   "mimetype": "text/x-python",
   "name": "python",
   "nbconvert_exporter": "python",
   "pygments_lexer": "ipython3",
   "version": "3.12.7"
  }
 },
 "nbformat": 4,
 "nbformat_minor": 5
}
