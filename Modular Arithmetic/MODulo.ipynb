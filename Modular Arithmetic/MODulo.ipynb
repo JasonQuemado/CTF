{
 "cells": [
  {
   "cell_type": "code",
   "execution_count": 1,
   "id": "59bedbb1-03fa-4393-8792-6e65becdccc7",
   "metadata": {},
   "outputs": [
    {
     "name": "stdout",
     "output_type": "stream",
     "text": [
      "1 "
     ]
    },
    {
     "ename": "ValueError",
     "evalue": "Exceeds the limit (4300 digits) for integer string conversion; use sys.set_int_max_str_digits() to increase the limit",
     "output_type": "error",
     "traceback": [
      "\u001b[0;31m---------------------------------------------------------------------------\u001b[0m",
      "\u001b[0;31mValueError\u001b[0m                                Traceback (most recent call last)",
      "Cell \u001b[0;32mIn[1], line 7\u001b[0m\n\u001b[1;32m      4\u001b[0m     \u001b[38;5;28;01mreturn\u001b[39;00m a \u001b[38;5;241m%\u001b[39m b, a \u001b[38;5;241m/\u001b[39m\u001b[38;5;241m/\u001b[39m b\n\u001b[1;32m      6\u001b[0m mod, num \u001b[38;5;241m=\u001b[39m modulo(\u001b[38;5;241m273246787654\u001b[39m\u001b[38;5;241m*\u001b[39m\u001b[38;5;241m*\u001b[39m\u001b[38;5;241m65536\u001b[39m,\u001b[38;5;241m65537\u001b[39m)\n\u001b[0;32m----> 7\u001b[0m \u001b[38;5;28mprint\u001b[39m(mod, num)\n",
      "\u001b[0;31mValueError\u001b[0m: Exceeds the limit (4300 digits) for integer string conversion; use sys.set_int_max_str_digits() to increase the limit"
     ]
    }
   ],
   "source": [
    "def modulo(a,b):\n",
    "    if(b == 0):\n",
    "        raise ValueError\n",
    "    return a % b, a // b\n",
    "\n",
    "mod, num = modulo(8146798528947,17)\n",
    "print(mod, num)"
   ]
  },
  {
   "cell_type": "code",
   "execution_count": null,
   "id": "9766935d-29c5-4645-9954-eee98c589a62",
   "metadata": {},
   "outputs": [],
   "source": []
  }
 ],
 "metadata": {
  "kernelspec": {
   "display_name": "Python [conda env:base] *",
   "language": "python",
   "name": "conda-base-py"
  },
  "language_info": {
   "codemirror_mode": {
    "name": "ipython",
    "version": 3
   },
   "file_extension": ".py",
   "mimetype": "text/x-python",
   "name": "python",
   "nbconvert_exporter": "python",
   "pygments_lexer": "ipython3",
   "version": "3.12.7"
  }
 },
 "nbformat": 4,
 "nbformat_minor": 5
}
