{
 "cells": [
  {
   "cell_type": "code",
   "execution_count": 3,
   "id": "e5a48fff-5e1e-444f-a605-f94c6475ea08",
   "metadata": {},
   "outputs": [
    {
     "name": "stdout",
     "output_type": "stream",
     "text": [
      "1 10245 -8404\n"
     ]
    }
   ],
   "source": [
    "def extended_gcd(a, b):\n",
    "    if b == 0:\n",
    "        return a, 1, 0\n",
    "\n",
    "    gcd, x1, y1 = extended_gcd(b, a % b)\n",
    "\n",
    "    x = y1\n",
    "    y = x1 - (a // b) * y1\n",
    "    return gcd, x, y\n",
    "\n",
    "gcd, u, v = extended_gcd(26513, 32321)\n",
    "print(gcd,u,v)\n",
    "    "
   ]
  },
  {
   "cell_type": "code",
   "execution_count": null,
   "id": "3aaa3fd3-019c-462d-b1e7-f62a9d9e4325",
   "metadata": {},
   "outputs": [],
   "source": []
  }
 ],
 "metadata": {
  "kernelspec": {
   "display_name": "Python [conda env:base] *",
   "language": "python",
   "name": "conda-base-py"
  },
  "language_info": {
   "codemirror_mode": {
    "name": "ipython",
    "version": 3
   },
   "file_extension": ".py",
   "mimetype": "text/x-python",
   "name": "python",
   "nbconvert_exporter": "python",
   "pygments_lexer": "ipython3",
   "version": "3.12.7"
  }
 },
 "nbformat": 4,
 "nbformat_minor": 5
}
