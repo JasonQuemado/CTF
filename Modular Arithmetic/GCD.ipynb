{
 "cells": [
  {
   "cell_type": "code",
   "execution_count": 20,
   "id": "1d519e1e-552b-401e-931a-0dac91a615a1",
   "metadata": {},
   "outputs": [
    {
     "name": "stdout",
     "output_type": "stream",
     "text": [
      "1512\n",
      "1\n"
     ]
    }
   ],
   "source": [
    "def gcd(a,b):\n",
    "    aux = 0\n",
    "    menor = min(a,b)\n",
    "    for i in range(1, menor + 1):\n",
    "            if((a % i) == 0 and (b % i) == 0):\n",
    "                aux = i\n",
    "    print(aux)\n",
    "\n",
    "final = gcd(66528,52920)\n",
    "final = gcd(26513,32321)"
   ]
  },
  {
   "cell_type": "code",
   "execution_count": null,
   "id": "450b8227-6a16-4c10-a393-753293649694",
   "metadata": {},
   "outputs": [],
   "source": []
  },
  {
   "cell_type": "code",
   "execution_count": null,
   "id": "3cde95f1-e8f5-48ee-b235-041f570bd0b4",
   "metadata": {},
   "outputs": [],
   "source": []
  }
 ],
 "metadata": {
  "kernelspec": {
   "display_name": "Python [conda env:base] *",
   "language": "python",
   "name": "conda-base-py"
  },
  "language_info": {
   "codemirror_mode": {
    "name": "ipython",
    "version": 3
   },
   "file_extension": ".py",
   "mimetype": "text/x-python",
   "name": "python",
   "nbconvert_exporter": "python",
   "pygments_lexer": "ipython3",
   "version": "3.12.7"
  }
 },
 "nbformat": 4,
 "nbformat_minor": 5
}
