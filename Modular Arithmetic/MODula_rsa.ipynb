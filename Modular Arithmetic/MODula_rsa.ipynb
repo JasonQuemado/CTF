{
 "cells": [
  {
   "cell_type": "code",
   "execution_count": 10,
   "id": "9b907332-1779-4523-ac0e-c4f1337eb321",
   "metadata": {},
   "outputs": [
    {
     "name": "stdin",
     "output_type": "stream",
     "text": [
      "Introduce la base:  273246787654\n",
      "Introduce el exponente:  65536\n",
      "Introduce el módulo:  65537\n"
     ]
    },
    {
     "name": "stdout",
     "output_type": "stream",
     "text": [
      "El resultado de la exponenciación modular es: 1\n"
     ]
    }
   ],
   "source": [
    "def modular_exponentiation():\n",
    "    \n",
    "    base = int(input(\"Introduce la base: \"))\n",
    "    exponent = int(input(\"Introduce el exponente: \"))\n",
    "    modulus = int(input(\"Introduce el módulo: \"))\n",
    "    \n",
    "    result = 1\n",
    "    base = base % modulus\n",
    "    \n",
    "    while exponent > 0:\n",
    "        if exponent % 2 == 1:\n",
    "            result = (result * base) % modulus\n",
    "        exponent = exponent >> 1 \n",
    "        base = (base * base) % modulus\n",
    "    \n",
    "    print(f\"El resultado de la exponenciación modular es: {result}\")\n",
    "\n",
    "\n",
    "modular_exponentiation()"
   ]
  },
  {
   "cell_type": "code",
   "execution_count": null,
   "id": "ce80bfb8-9469-4897-ae2f-e7300059d075",
   "metadata": {},
   "outputs": [],
   "source": []
  }
 ],
 "metadata": {
  "kernelspec": {
   "display_name": "Python [conda env:base] *",
   "language": "python",
   "name": "conda-base-py"
  },
  "language_info": {
   "codemirror_mode": {
    "name": "ipython",
    "version": 3
   },
   "file_extension": ".py",
   "mimetype": "text/x-python",
   "name": "python",
   "nbconvert_exporter": "python",
   "pygments_lexer": "ipython3",
   "version": "3.12.7"
  }
 },
 "nbformat": 4,
 "nbformat_minor": 5
}
