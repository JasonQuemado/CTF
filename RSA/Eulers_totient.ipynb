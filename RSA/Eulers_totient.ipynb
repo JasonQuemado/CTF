{
 "cells": [
  {
   "cell_type": "code",
   "execution_count": 8,
   "id": "33c3c2b1-fcb3-4f94-a296-997d95045c6b",
   "metadata": {},
   "outputs": [
    {
     "name": "stdout",
     "output_type": "stream",
     "text": [
      "LA FUNCIÓN PHI(N) SE CALCULA COMO (p-1)(q-1)\n",
      "882564595536224140639625987657529300394956519977044270821168\n"
     ]
    }
   ],
   "source": [
    "p = 857504083339712752489993810777\n",
    "q = 1029224947942998075080348647219\n",
    "\n",
    "print(\"FUNCTION PHI(N) IS CALCULATED THIS WAY: (p-1)(q-1)\")\n",
    "\n",
    "phi = (p-1) * (q-1)\n",
    "print(phi)"
   ]
  },
  {
   "cell_type": "code",
   "execution_count": null,
   "id": "dbae8ba9-2da1-40dd-bc5b-e10f2a6be5b5",
   "metadata": {},
   "outputs": [],
   "source": []
  }
 ],
 "metadata": {
  "kernelspec": {
   "display_name": "Python [conda env:base] *",
   "language": "python",
   "name": "conda-base-py"
  },
  "language_info": {
   "codemirror_mode": {
    "name": "ipython",
    "version": 3
   },
   "file_extension": ".py",
   "mimetype": "text/x-python",
   "name": "python",
   "nbconvert_exporter": "python",
   "pygments_lexer": "ipython3",
   "version": "3.12.7"
  }
 },
 "nbformat": 4,
 "nbformat_minor": 5
}
