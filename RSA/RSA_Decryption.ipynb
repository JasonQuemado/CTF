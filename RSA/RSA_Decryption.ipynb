{
 "cells": [
  {
   "cell_type": "code",
   "execution_count": 4,
   "id": "0333cbe1-dbb8-420f-8560-2b07d285101f",
   "metadata": {},
   "outputs": [
    {
     "name": "stdout",
     "output_type": "stream",
     "text": [
      "SABEMOS QUE C = M^e mod N\n",
      "M = C^d mod N\n",
      "13371337\n"
     ]
    }
   ],
   "source": [
    "N = 882564595536224140639625987659416029426239230804614613279163\n",
    "e = 65537\n",
    "c = 77578995801157823671636298847186723593814843845525223303932\n",
    "d = 121832886702415731577073962957377780195510499965398469843281\n",
    "\n",
    "print(\"SABEMOS QUE C = M^e mod N\")\n",
    "print(\"M = C^d mod N\")\n",
    "\n",
    "def decrypt(a,b,c):\n",
    "    m = pow(a,b,c)\n",
    "    return m\n",
    "\n",
    "final = decrypt(c,d,N)\n",
    "print(final)"
   ]
  },
  {
   "cell_type": "code",
   "execution_count": null,
   "id": "8bdcf94d-9299-436d-a490-2de0ce63f453",
   "metadata": {},
   "outputs": [],
   "source": []
  }
 ],
 "metadata": {
  "kernelspec": {
   "display_name": "Python [conda env:base] *",
   "language": "python",
   "name": "conda-base-py"
  },
  "language_info": {
   "codemirror_mode": {
    "name": "ipython",
    "version": 3
   },
   "file_extension": ".py",
   "mimetype": "text/x-python",
   "name": "python",
   "nbconvert_exporter": "python",
   "pygments_lexer": "ipython3",
   "version": "3.12.7"
  }
 },
 "nbformat": 4,
 "nbformat_minor": 5
}
