{
 "cells": [
  {
   "cell_type": "code",
   "execution_count": 4,
   "id": "2e045cb0-15a7-4aff-b18f-7a692424d99d",
   "metadata": {},
   "outputs": [
    {
     "ename": "KeyboardInterrupt",
     "evalue": "",
     "output_type": "error",
     "traceback": [
      "\u001b[0;31m---------------------------------------------------------------------------\u001b[0m",
      "\u001b[0;31mKeyboardInterrupt\u001b[0m                         Traceback (most recent call last)",
      "Cell \u001b[0;32mIn[4], line 47\u001b[0m\n\u001b[1;32m     42\u001b[0m             \u001b[38;5;28;01mreturn\u001b[39;00m pollard_rho(n)\n\u001b[1;32m     44\u001b[0m     \u001b[38;5;28;01mreturn\u001b[39;00m d  \u001b[38;5;66;03m# Devolvemos un factor encontrado\u001b[39;00m\n\u001b[0;32m---> 47\u001b[0m primo \u001b[38;5;241m=\u001b[39m pollard_rho(N)\n\u001b[1;32m     48\u001b[0m \u001b[38;5;28mprint\u001b[39m(primo)\n",
      "Cell \u001b[0;32mIn[4], line 38\u001b[0m, in \u001b[0;36mpollard_rho\u001b[0;34m(n)\u001b[0m\n\u001b[1;32m     36\u001b[0m \u001b[38;5;28;01mwhile\u001b[39;00m d \u001b[38;5;241m==\u001b[39m \u001b[38;5;241m1\u001b[39m:  \u001b[38;5;66;03m# Seguimos hasta encontrar un divisor no trivial\u001b[39;00m\n\u001b[1;32m     37\u001b[0m     x \u001b[38;5;241m=\u001b[39m f(x, c, n)\n\u001b[0;32m---> 38\u001b[0m     y \u001b[38;5;241m=\u001b[39m f(f(y, c, n), c, n)  \u001b[38;5;66;03m# y avanza dos veces más rápido\u001b[39;00m\n\u001b[1;32m     39\u001b[0m     d \u001b[38;5;241m=\u001b[39m math\u001b[38;5;241m.\u001b[39mgcd(\u001b[38;5;28mabs\u001b[39m(x \u001b[38;5;241m-\u001b[39m y), n)  \u001b[38;5;66;03m# Calculamos el MCD entre |x - y| y n\u001b[39;00m\n\u001b[1;32m     41\u001b[0m     \u001b[38;5;28;01mif\u001b[39;00m d \u001b[38;5;241m==\u001b[39m n:  \u001b[38;5;66;03m# Si no encontramos un factor, repetimos con otro c\u001b[39;00m\n",
      "Cell \u001b[0;32mIn[4], line 28\u001b[0m, in \u001b[0;36mpollard_rho.<locals>.f\u001b[0;34m(x, c, n)\u001b[0m\n\u001b[1;32m     25\u001b[0m     \u001b[38;5;28;01mreturn\u001b[39;00m \u001b[38;5;241m2\u001b[39m  \u001b[38;5;66;03m# Si n es par, devolvemos 2 inmediatamente\u001b[39;00m\n\u001b[1;32m     27\u001b[0m \u001b[38;5;66;03m# Función f(x) = (x² + c) mod n\u001b[39;00m\n\u001b[0;32m---> 28\u001b[0m \u001b[38;5;28;01mdef\u001b[39;00m \u001b[38;5;21mf\u001b[39m(x, c, n):\n\u001b[1;32m     29\u001b[0m     \u001b[38;5;28;01mreturn\u001b[39;00m (x \u001b[38;5;241m*\u001b[39m x \u001b[38;5;241m+\u001b[39m c) \u001b[38;5;241m%\u001b[39m n\n\u001b[1;32m     31\u001b[0m x \u001b[38;5;241m=\u001b[39m random\u001b[38;5;241m.\u001b[39mrandint(\u001b[38;5;241m2\u001b[39m, n \u001b[38;5;241m-\u001b[39m \u001b[38;5;241m1\u001b[39m)  \u001b[38;5;66;03m# Escogemos un número aleatorio\u001b[39;00m\n",
      "\u001b[0;31mKeyboardInterrupt\u001b[0m: "
     ]
    }
   ],
   "source": [
    "import random\n",
    "import math\n",
    "\n",
    "N = 510143758735509025530880200653196460532653147\n",
    "\n",
    "def fermat_optimized(n):\n",
    "    x = math.isqrt(n)  # Aproximamos la raíz cuadrada de n\n",
    "    if x * x == n:  # Si es un cuadrado perfecto, ya tenemos los factores\n",
    "        return x, x\n",
    "    \n",
    "    if x % 2 == 0:\n",
    "        x += 1  # Aseguramos que x sea impar (mejora rendimiento)\n",
    "\n",
    "    while True:\n",
    "        y2 = x * x - n  # Calculamos y² = x² - n\n",
    "        y = math.isqrt(y2)  # Tomamos la raíz cuadrada de y²\n",
    "        if y * y == y2:  # Si y² es un cuadrado perfecto, hemos factorizado\n",
    "            p = x + y\n",
    "            q = x - y\n",
    "            return min(p, q), max(p, q)  # Ordenamos los factores\n",
    "        x += 2  # Probamos solo valores impares (más eficiente)\n",
    "\n",
    "def pollard_rho(n):\n",
    "    if n % 2 == 0:\n",
    "        return 2  # Si n es par, devolvemos 2 inmediatamente\n",
    "    \n",
    "    # Función f(x) = (x² + c) mod n\n",
    "    def f(x, c, n):\n",
    "        return (x * x + c) % n\n",
    "\n",
    "    x = random.randint(2, n - 1)  # Escogemos un número aleatorio\n",
    "    y = x\n",
    "    c = random.randint(1, n - 1)  # Seleccionamos una constante aleatoria\n",
    "    d = 1  # Inicializamos el divisor\n",
    "    \n",
    "    while d == 1:  # Seguimos hasta encontrar un divisor no trivial\n",
    "        x = f(x, c, n)\n",
    "        y = f(f(y, c, n), c, n)  # y avanza dos veces más rápido\n",
    "        d = math.gcd(abs(x - y), n)  # Calculamos el MCD entre |x - y| y n\n",
    "\n",
    "        if d == n:  # Si no encontramos un factor, repetimos con otro c\n",
    "            return pollard_rho(n)\n",
    "\n",
    "    return d  # Devolvemos un factor encontrado\n",
    "\n",
    "\n",
    "primo = pollard_rho(N)\n",
    "print(primo)\n",
    "\n",
    "#primoP,primoQ = fermat_optimized(N)\n",
    "#print(min(primoP,primoQ))"
   ]
  },
  {
   "cell_type": "code",
   "execution_count": null,
   "id": "a7ffd583-15a6-46f0-9e92-0eabfc9a1b52",
   "metadata": {},
   "outputs": [],
   "source": []
  },
  {
   "cell_type": "code",
   "execution_count": null,
   "id": "be83f26d-a692-4a2b-98ea-47f1a391bd61",
   "metadata": {},
   "outputs": [],
   "source": []
  }
 ],
 "metadata": {
  "kernelspec": {
   "display_name": "Python [conda env:base] *",
   "language": "python",
   "name": "conda-base-py"
  },
  "language_info": {
   "codemirror_mode": {
    "name": "ipython",
    "version": 3
   },
   "file_extension": ".py",
   "mimetype": "text/x-python",
   "name": "python",
   "nbconvert_exporter": "python",
   "pygments_lexer": "ipython3",
   "version": "3.12.7"
  }
 },
 "nbformat": 4,
 "nbformat_minor": 5
}
