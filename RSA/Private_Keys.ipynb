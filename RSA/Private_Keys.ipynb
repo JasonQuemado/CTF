{
 "cells": [
  {
   "cell_type": "code",
   "execution_count": 3,
   "id": "9ad07ead-f2b0-4b4d-afd5-354e022c537c",
   "metadata": {},
   "outputs": [
    {
     "name": "stdout",
     "output_type": "stream",
     "text": [
      "NOW WE WILL CALCULATE THE PRIVATE EXPONENT 'd': d ≡ e^−1 modϕ(N)\n",
      "121832886702415731577073962957377780195510499965398469843281\n"
     ]
    }
   ],
   "source": [
    "p = 857504083339712752489993810777\n",
    "q = 1029224947942998075080348647219\n",
    "e = 65537\n",
    "\n",
    "phi = (p-1) * (q-1)\n",
    "\n",
    "print(\"NOW WE WILL CALCULATE THE PRIVATE EXPONENT 'd': d ≡ e^−1 modϕ(N)\")\n",
    "\n",
    "def extended_gcd(a, b):\n",
    "    if b == 0:\n",
    "        return a, 1, 0\n",
    "\n",
    "    gcd, x1, y1 = extended_gcd(b, a % b)\n",
    "    x = y1\n",
    "    y = x1 - (a // b) * y1\n",
    "\n",
    "    return gcd, x, y\n",
    "\n",
    "def modular_inverse(a,b):\n",
    "    minimo = min(a,b)\n",
    "    maximo  = max(a,b)\n",
    "\n",
    "    gcd, d, _ = extended_gcd(e, phi)\n",
    "    \n",
    "    if gcd != 1:\n",
    "        raise ValueError(\"No existe inversa modular para d en módulo ϕ(n)\")\n",
    "\n",
    "    return d % phi\n",
    "\n",
    "final = modular_inverse(p,q)\n",
    "print(final)"
   ]
  },
  {
   "cell_type": "code",
   "execution_count": null,
   "id": "095e16a5-520a-4d83-adb3-d34271b1fd8c",
   "metadata": {},
   "outputs": [],
   "source": []
  }
 ],
 "metadata": {
  "kernelspec": {
   "display_name": "Python [conda env:base] *",
   "language": "python",
   "name": "conda-base-py"
  },
  "language_info": {
   "codemirror_mode": {
    "name": "ipython",
    "version": 3
   },
   "file_extension": ".py",
   "mimetype": "text/x-python",
   "name": "python",
   "nbconvert_exporter": "python",
   "pygments_lexer": "ipython3",
   "version": "3.12.7"
  }
 },
 "nbformat": 4,
 "nbformat_minor": 5
}
