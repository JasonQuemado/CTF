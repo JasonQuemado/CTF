{
 "cells": [
  {
   "cell_type": "code",
   "execution_count": 2,
   "id": "0a0925f3-c9d7-49d7-9b15-0e67df10c285",
   "metadata": {},
   "outputs": [
    {
     "name": "stdout",
     "output_type": "stream",
     "text": [
      "MOST COMMON VALUE FOR e is 0x10001, 65537\n",
      "C = M^e mod N\n",
      "301\n"
     ]
    }
   ],
   "source": [
    "print(\"MOST COMMON VALUE FOR 'e' is 0x10001, 65537\")\n",
    "print(\"C = M^e mod N\")\n",
    "num = 12\n",
    "publicExp = 65537\n",
    "primeP = 17\n",
    "primeQ = 23\n",
    "modulus = primeP * primeQ\n",
    "cipher = (num ** publicExp) % modulus\n",
    "print(cipher)"
   ]
  },
  {
   "cell_type": "code",
   "execution_count": null,
   "id": "3dacca23-4808-4b3d-9bce-5db3e61b62de",
   "metadata": {},
   "outputs": [],
   "source": []
  }
 ],
 "metadata": {
  "kernelspec": {
   "display_name": "Python [conda env:base] *",
   "language": "python",
   "name": "conda-base-py"
  },
  "language_info": {
   "codemirror_mode": {
    "name": "ipython",
    "version": 3
   },
   "file_extension": ".py",
   "mimetype": "text/x-python",
   "name": "python",
   "nbconvert_exporter": "python",
   "pygments_lexer": "ipython3",
   "version": "3.12.7"
  }
 },
 "nbformat": 4,
 "nbformat_minor": 5
}
