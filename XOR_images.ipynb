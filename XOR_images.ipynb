{
 "cells": [
  {
   "cell_type": "code",
   "execution_count": 16,
   "id": "452c1b06-4000-4071-b309-2cc1dac5028b",
   "metadata": {},
   "outputs": [],
   "source": [
    "#import imageio.v2 as iio\n",
    "from PIL import Image\n",
    "import numpy as np\n",
    "\n",
    "flag = Image.open(\"flag.png\").convert(\"RGB\")\n",
    "lemur = Image.open(\"lemur.png\").convert(\"RGB\")\n",
    "#lemur = iio.imread(\"lemur.png\")\n",
    "#flag = iio.imread(\"flag.png\")\n",
    "\n",
    "\n",
    "def xor_image(i1,i2):\n",
    "    arr1 = np.array(i1)\n",
    "    arr2 = np.array(i2)\n",
    "    result = arr1 ^ arr2\n",
    "    img_xor = Image.fromarray(result)\n",
    "    img_xor.save(\"final.png\")\n",
    "    img_xor.show()\n",
    "\n",
    "xor_image(flag,lemur)\n",
    "\n"
   ]
  },
  {
   "cell_type": "code",
   "execution_count": null,
   "id": "a2594c2b-279b-484b-988d-efa49cd58428",
   "metadata": {},
   "outputs": [],
   "source": []
  }
 ],
 "metadata": {
  "kernelspec": {
   "display_name": "Python [conda env:base] *",
   "language": "python",
   "name": "conda-base-py"
  },
  "language_info": {
   "codemirror_mode": {
    "name": "ipython",
    "version": 3
   },
   "file_extension": ".py",
   "mimetype": "text/x-python",
   "name": "python",
   "nbconvert_exporter": "python",
   "pygments_lexer": "ipython3",
   "version": "3.12.7"
  }
 },
 "nbformat": 4,
 "nbformat_minor": 5
}
